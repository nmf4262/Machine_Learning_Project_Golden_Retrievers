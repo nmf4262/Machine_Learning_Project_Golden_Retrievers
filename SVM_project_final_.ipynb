{
  "nbformat": 4,
  "nbformat_minor": 0,
  "metadata": {
    "colab": {
      "provenance": []
    },
    "kernelspec": {
      "name": "python3",
      "display_name": "Python 3"
    },
    "language_info": {
      "name": "python"
    }
  },
  "cells": [
    {
      "cell_type": "code",
      "execution_count": 2,
      "metadata": {
        "id": "ZSVBAkJti6jA"
      },
      "outputs": [],
      "source": [
        "import pandas as pd\n",
        "import numpy as np\n",
        "from sklearn import svm\n",
        "from sklearn.svm import LinearSVC\n",
        "from sklearn.linear_model import RidgeClassifier\n",
        "from sklearn.pipeline import Pipeline\n",
        "\n",
        "from sklearn.model_selection import GridSearchCV\n",
        "from sklearn.model_selection import train_test_split\n",
        "from sklearn.preprocessing import StandardScaler, PolynomialFeatures, OrdinalEncoder\n",
        "from sklearn.metrics import accuracy_score, classification_report\n",
        "from matplotlib import pyplot as plt"
      ]
    },
    {
      "cell_type": "code",
      "source": [
        "# Create the dataframe for the dataset\n",
        "df = pd.read_csv('CBC_data.csv')\n",
        "# Calculating the mean of every column (feature)\n",
        "rbc_mean = df['RBC'].mean()\n",
        "hgb_mean = df['HGB'].mean()\n",
        "wbc_mean = df['WBC'].mean()\n",
        "eos_cnt_mean = df['EOS.CNT'].mean()\n",
        "mono_cnt_mean = df['MONO.CNT'].mean()\n",
        "nut_cnt_mean = df['NUT.CNT'].mean()\n",
        "pl_cnt_mean = df['PL.CNT'].mean()\n",
        "lymp_cnt_mean = df['LYMP.CNT'].mean()\n",
        "# Filling the all the missing values \n",
        "df['RBC'].fillna(rbc_mean, inplace=True)\n",
        "df['HGB'].fillna(hgb_mean, inplace=True)\n",
        "df['WBC'].fillna(wbc_mean, inplace=True)\n",
        "df['EOS.CNT'].fillna(eos_cnt_mean, inplace=True)\n",
        "df['MONO.CNT'].fillna(mono_cnt_mean, inplace=True)\n",
        "df['NUT.CNT'].fillna(nut_cnt_mean, inplace=True)\n",
        "df['PL.CNT'].fillna(pl_cnt_mean, inplace=True)\n",
        "df['LYMP.CNT'].fillna(lymp_cnt_mean, inplace=True)\n",
        "# Converts the dataframe into a numpy array\n",
        "data = df.to_numpy()\n",
        "# Converts the features that are not numerical values into integer values\n",
        "encoder = OrdinalEncoder()\n",
        "data_to_encode = data[:,[1, 2,3,4,6]]\n",
        "encoder.fit(data_to_encode)\n",
        "data[:, [1, 2,3,4,6]] = encoder.transform(data_to_encode)\n",
        "data = data[:,[1,2,4,5,6,7,8,9,10,11,12,13,14]]\n",
        "X_train_data = data[:300]\n",
        "X_test_data = data[300:420]\n",
        "print(X_train_data[0])\n",
        "# X_train_data = data[:300]\n",
        "# X_test_data = data[300:420]\n"
      ],
      "metadata": {
        "id": "4xJPejPti821",
        "colab": {
          "base_uri": "https://localhost:8080/"
        },
        "outputId": "52e1bd27-7c88-4faf-c676-1e7922945ec3"
      },
      "execution_count": 3,
      "outputs": [
        {
          "output_type": "stream",
          "name": "stdout",
          "text": [
            "[1.0 1.0 0.0 9 0.0 6.4 16.6 14.2 142.0 852.0 6390.0 210.0 6816.0]\n"
          ]
        }
      ]
    },
    {
      "cell_type": "code",
      "source": [
        "pos_examples_count, neg_examples_count  = 0, 0\n",
        "train_idx, test_idx = 0, 0\n",
        "pos_check_count=0\n",
        "neg_check_count=0\n",
        "for i in range(len(data)):\n",
        "    pos_check_count +=1\n",
        "    if pos_examples_count == 150:\n",
        "        break\n",
        "    if data[i][4] == 1.0:\n",
        "        X_train_data[train_idx,:] = data[i,:]\n",
        "        pos_examples_count += 1\n",
        "        train_idx += 1\n",
        "\n",
        "for i in range(len(data)):\n",
        "    neg_check_count +=1\n",
        "    if neg_examples_count == 150:\n",
        "        break\n",
        "    if data[i][4] == 0.0:\n",
        "        X_train_data[train_idx,:] = data[i,:]\n",
        "        neg_examples_count += 1\n",
        "        train_idx += 1\n",
        "\n",
        "pos_examples_count, neg_examples_count = 0, 0\n",
        "for i in range(pos_check_count, len(data)):\n",
        "    if pos_examples_count == 60:\n",
        "        break\n",
        "    if data[i][4] == 1.0:\n",
        "        X_test_data[test_idx,:] = data[i,:]\n",
        "        pos_examples_count += 1\n",
        "        test_idx += 1\n",
        "\n",
        "for i in range(neg_check_count, len(data)):\n",
        "    if neg_examples_count == 60:\n",
        "        break\n",
        "    if data[i][4] == 0.0:\n",
        "        X_test_data[test_idx,:] = data[i,:]\n",
        "        neg_examples_count += 1\n",
        "        test_idx += 1\n",
        "\n",
        "\n",
        "y_train = X_train_data[:, 4:5]\n",
        "X_train = X_train_data[:, 5:]\n",
        "X_train = np.hstack((X_train, X_train_data[:, [0,1, 2, 3]]))\n",
        "y_test = X_test_data[:, 4:5]\n",
        "X_test = X_test_data[:, 5:]\n",
        "X_test = np.hstack((X_test, X_test_data[:, [0,1, 2, 3]]))\n"
      ],
      "metadata": {
        "id": "x2I6DVoSjTP_"
      },
      "execution_count": 4,
      "outputs": []
    },
    {
      "cell_type": "code",
      "source": [
        "scaler = StandardScaler()\n",
        "X_train_std = scaler.fit_transform(X_train).astype(np.float32)\n",
        "X_test_std = scaler.transform(X_test).astype(np.float32)\n",
        "y_train = np.ravel(y_train).astype(np.int32)\n",
        "y_test = np.ravel(y_test).astype(np.int32)"
      ],
      "metadata": {
        "id": "77LqCdP3jpP_"
      },
      "execution_count": 5,
      "outputs": []
    },
    {
      "cell_type": "code",
      "source": [
        "#Linear SVM with the different Regularization methods\n",
        "lin_m = svm.SVC(kernel=\"linear\")\n",
        "lin_m.fit(X_train_std, y_train)\n",
        "print(\"Linear SVM No regularization:\")\n",
        "print('Training accuracy:', accuracy_score(y_train, lin_m.predict(X_train_std)))\n",
        "print('Testing accuracy:', accuracy_score(y_test, lin_m.predict(X_test_std)))\n",
        "\n",
        "c_vals=[.001, .01, 1 , 10, 100]\n",
        "for c in c_vals:\n",
        "  lin_m = svm.LinearSVC(penalty=\"l1\", dual=False, C=c, max_iter=100000)\n",
        "  lin_m.fit(X_train_std, y_train)\n",
        "  print(\"Linear SVM with L1 regularization and C = {}:\".format(c))\n",
        "  print('Training accuracy:', accuracy_score(y_train, lin_m.predict(X_train_std)))\n",
        "  print('Testing accuracy:', accuracy_score(y_test, lin_m.predict(X_test_std)))\n",
        "\n",
        "for c in c_vals:\n",
        "  lin_m = svm.LinearSVC(penalty=\"l2\", dual=False, C=c, max_iter=100000)\n",
        "  lin_m.fit(X_train_std, y_train)\n",
        "  print(\"Linear SVM with L2 regularization and C = {}:\".format(c))\n",
        "  print('Training accuracy:', accuracy_score(y_train, lin_m.predict(X_train_std)))\n",
        "  print('Testing accuracy:', accuracy_score(y_test, lin_m.predict(X_test_std)))\n",
        "\n"
      ],
      "metadata": {
        "colab": {
          "base_uri": "https://localhost:8080/"
        },
        "id": "rY8sDDCimFUv",
        "outputId": "37dbf3f6-a70e-4ce4-ed1d-41316d4b3fff"
      },
      "execution_count": 6,
      "outputs": [
        {
          "output_type": "stream",
          "name": "stdout",
          "text": [
            "Linear SVM No regularization:\n",
            "Training accuracy: 0.67\n",
            "Testing accuracy: 0.55\n",
            "Linear SVM with L1 regularization and C = 0.001:\n",
            "Training accuracy: 0.5\n",
            "Testing accuracy: 0.5\n",
            "Linear SVM with L1 regularization and C = 0.01:\n",
            "Training accuracy: 0.62\n",
            "Testing accuracy: 0.48333333333333334\n",
            "Linear SVM with L1 regularization and C = 1:\n",
            "Training accuracy: 0.6733333333333333\n",
            "Testing accuracy: 0.5166666666666667\n",
            "Linear SVM with L1 regularization and C = 10:\n",
            "Training accuracy: 0.6833333333333333\n",
            "Testing accuracy: 0.5833333333333334\n",
            "Linear SVM with L1 regularization and C = 100:\n",
            "Training accuracy: 0.6933333333333334\n",
            "Testing accuracy: 0.6166666666666667\n",
            "Linear SVM with L2 regularization and C = 0.001:\n",
            "Training accuracy: 0.64\n",
            "Testing accuracy: 0.4666666666666667\n",
            "Linear SVM with L2 regularization and C = 0.01:\n",
            "Training accuracy: 0.69\n",
            "Testing accuracy: 0.5333333333333333\n",
            "Linear SVM with L2 regularization and C = 1:\n",
            "Training accuracy: 0.6766666666666666\n",
            "Testing accuracy: 0.5166666666666667\n",
            "Linear SVM with L2 regularization and C = 10:\n",
            "Training accuracy: 0.6766666666666666\n",
            "Testing accuracy: 0.5166666666666667\n",
            "Linear SVM with L2 regularization and C = 100:\n",
            "Training accuracy: 0.68\n",
            "Testing accuracy: 0.5916666666666667\n"
          ]
        }
      ]
    },
    {
      "cell_type": "code",
      "source": [
        "#Polynomial SVM as the degree increases\n",
        "print(\"Polynomial SVM:\")\n",
        "degree = []\n",
        "train_acc=[]\n",
        "test_acc=[]\n",
        "for i in range(1, 6):\n",
        "  lin_m = svm.SVC(kernel=\"poly\", degree = i)\n",
        "  lin_m.fit(X_train_std, y_train)\n",
        "  print('Polynomial SVM Degree {}:'.format(i))\n",
        "  print('Training accuracy:', accuracy_score(y_train, lin_m.predict(X_train_std)))\n",
        "  print('Testing accuracy:', accuracy_score(y_test, lin_m.predict(X_test_std)))\n",
        "  degree.append(i)\n",
        "  train_acc.append(accuracy_score(y_train, lin_m.predict(X_train_std)))\n",
        "  test_acc.append(accuracy_score(y_test, lin_m.predict(X_test_std)))\n",
        "plt.plot(degree, train_acc, label = \"Training Accuracy\")\n",
        "plt.plot(degree, test_acc, label = \"Test Accuracy\")\n",
        "plt.legend()\n",
        "plt.show()\n"
      ],
      "metadata": {
        "colab": {
          "base_uri": "https://localhost:8080/",
          "height": 702
        },
        "id": "V2MlihGbmepZ",
        "outputId": "a3e6ec7b-a33f-4dea-a587-6950168e046a"
      },
      "execution_count": 27,
      "outputs": [
        {
          "output_type": "stream",
          "name": "stdout",
          "text": [
            "Polynomial SVM:\n",
            "Polynomial SVM Degree 1:\n",
            "Training accuracy: 0.6633333333333333\n",
            "Testing accuracy: 0.55\n",
            "Polynomial SVM Degree 2:\n",
            "Training accuracy: 0.69\n",
            "Testing accuracy: 0.5166666666666667\n",
            "Polynomial SVM Degree 3:\n",
            "Training accuracy: 0.7833333333333333\n",
            "Testing accuracy: 0.49166666666666664\n",
            "Polynomial SVM Degree 4:\n",
            "Training accuracy: 0.8\n",
            "Testing accuracy: 0.5083333333333333\n",
            "Polynomial SVM Degree 5:\n",
            "Training accuracy: 0.8566666666666667\n",
            "Testing accuracy: 0.5333333333333333\n"
          ]
        },
        {
          "output_type": "display_data",
          "data": {
            "text/plain": [
              "<Figure size 640x480 with 1 Axes>"
            ],
            "image/png": "[encoded data removed]"
          },
          "metadata": {}
        }
      ]
    },
    {
      "cell_type": "code",
      "source": [
        "#Radial Bias SVM and k-fold cross validation for k from 2 to 9\n",
        "print(\"Radial Bias SVM:\")\n",
        "gamma_vals = []\n",
        "c_vals = []\n",
        "for i in range(-3, 3):\n",
        "  val = 10**i\n",
        "  gamma_vals.append(val)\n",
        "  c_vals.append(val)\n",
        "grid = {\"C\": c_vals, \"gamma\": gamma_vals}\n",
        "rbf_helper = svm.SVC(kernel='rbf')\n",
        "\n",
        "for i in range(2, 10):\n",
        "  new_grid = GridSearchCV(rbf_helper, grid, cv=i)\n",
        "  new_grid.fit(X_train_std, y_train)\n",
        "  best_model = new_grid.best_estimator_\n",
        "  print(\"Best C value and Gamma value with {}-fold validation: {}\".format(i,new_grid.best_params_))\n",
        "  print(\"{}-fold accuracy: {}\".format(i,new_grid.best_score_))\n",
        "  print(\"Training accuracy: \", best_model.score(X_train_std, y_train))\n",
        "  print(\"Testing accuracy: \", best_model.score(X_test_std, y_test))\n",
        "\n"
      ],
      "metadata": {
        "colab": {
          "base_uri": "https://localhost:8080/"
        },
        "id": "SJ31ZaEUnJzt",
        "outputId": "4466af52-71ff-41b6-b2fe-b8a72600c5c9"
      },
      "execution_count": 8,
      "outputs": [
        {
          "output_type": "stream",
          "name": "stdout",
          "text": [
            "Radial Bias SVM:\n",
            "Best C value and Gamma value with 2-fold validation: {'C': 1, 'gamma': 0.01}\n",
            "2-fold accuracy: 0.62\n",
            "Training accuracy:  0.67\n",
            "Testing accuracy:  0.5\n",
            "Best C value and Gamma value with 3-fold validation: {'C': 0.001, 'gamma': 0.1}\n",
            "3-fold accuracy: 0.62\n",
            "Training accuracy:  0.67\n",
            "Testing accuracy:  0.45\n",
            "Best C value and Gamma value with 4-fold validation: {'C': 100, 'gamma': 0.01}\n",
            "4-fold accuracy: 0.64\n",
            "Training accuracy:  0.81\n",
            "Testing accuracy:  0.5583333333333333\n",
            "Best C value and Gamma value with 5-fold validation: {'C': 10, 'gamma': 0.001}\n",
            "5-fold accuracy: 0.6366666666666666\n",
            "Training accuracy:  0.6733333333333333\n",
            "Testing accuracy:  0.4666666666666667\n",
            "Best C value and Gamma value with 6-fold validation: {'C': 10, 'gamma': 0.01}\n",
            "6-fold accuracy: 0.6433333333333334\n",
            "Training accuracy:  0.7266666666666667\n",
            "Testing accuracy:  0.5666666666666667\n",
            "Best C value and Gamma value with 7-fold validation: {'C': 100, 'gamma': 0.01}\n",
            "7-fold accuracy: 0.6332067710805251\n",
            "Training accuracy:  0.81\n",
            "Testing accuracy:  0.5583333333333333\n",
            "Best C value and Gamma value with 8-fold validation: {'C': 100, 'gamma': 0.01}\n",
            "8-fold accuracy: 0.6333570412517782\n",
            "Training accuracy:  0.81\n",
            "Testing accuracy:  0.5583333333333333\n",
            "Best C value and Gamma value with 9-fold validation: {'C': 10, 'gamma': 0.01}\n",
            "9-fold accuracy: 0.6332937215290158\n",
            "Training accuracy:  0.7266666666666667\n",
            "Testing accuracy:  0.5666666666666667\n"
          ]
        }
      ]
    }
  ]
}